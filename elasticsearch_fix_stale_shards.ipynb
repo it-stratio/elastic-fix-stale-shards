{
 "cells": [
  {
   "cell_type": "markdown",
   "metadata": {},
   "source": [
    "Recover stale shards in Elasticsearch cluster"
   ]
  },
  {
   "cell_type": "code",
   "execution_count": null,
   "metadata": {
    "dotnet_interactive": {
     "language": "csharp"
    },
    "vscode": {
     "languageId": "dotnet-interactive.csharp"
    }
   },
   "outputs": [],
   "source": [
    "//Import packages\n",
    "\n",
    "#r \"nuget:NEST,6.8.11\"\n"
   ]
  },
  {
   "cell_type": "markdown",
   "metadata": {},
   "source": [
    "Create Elastics client"
   ]
  },
  {
   "cell_type": "code",
   "execution_count": null,
   "metadata": {
    "dotnet_interactive": {
     "language": "csharp"
    },
    "vscode": {
     "languageId": "dotnet-interactive.csharp"
    }
   },
   "outputs": [],
   "source": [
    "Uri host = new Uri(\"\");\n",
    "string username = \"\";\n",
    "string password = \"\";"
   ]
  },
  {
   "cell_type": "code",
   "execution_count": null,
   "metadata": {
    "dotnet_interactive": {
     "language": "csharp"
    },
    "vscode": {
     "languageId": "dotnet-interactive.csharp"
    }
   },
   "outputs": [],
   "source": [
    "using Nest;\n",
    "using System.Net.Security;\n",
    "using System.Security.Cryptography.X509Certificates;\n",
    "\n",
    "static ElasticClient GetElasticClient(Uri host, string username, string password)\n",
    "{\n",
    "    var connection = new ConnectionSettings(host);\n",
    "    \n",
    "    connection.BasicAuthentication(username, password);\n",
    "    connection.MaximumRetries(3);\n",
    "    connection.RequestTimeout(TimeSpan.FromMinutes(3.0));\n",
    "    connection.MaxRetryTimeout(TimeSpan.FromMinutes(3.0));\n",
    "    connection.ServerCertificateValidationCallback((object sender, X509Certificate cert, X509Chain chain, SslPolicyErrors errors) => true);\n",
    "    connection.DisableDirectStreaming();\n",
    "    \n",
    "    return new ElasticClient(connection);\n",
    "}\n",
    "\n",
    "var elasticClient = GetElasticClient(host, username, password);"
   ]
  },
  {
   "cell_type": "markdown",
   "metadata": {},
   "source": [
    "Get nodes"
   ]
  },
  {
   "cell_type": "code",
   "execution_count": null,
   "metadata": {
    "dotnet_interactive": {
     "language": "csharp"
    },
    "vscode": {
     "languageId": "dotnet-interactive.csharp"
    }
   },
   "outputs": [],
   "source": [
    "static async Task<IEnumerable<CatNodesRecord>> GetNodes(ElasticClient elasticClient)\n",
    "{\n",
    "    var nodesResponse = await elasticClient.CatNodesAsync();\n",
    "\n",
    "    if (!nodesResponse.IsValid)\n",
    "    {\n",
    "        Console.WriteLine(\"Invalid nodes response\");\n",
    "\n",
    "        return Enumerable.Empty<CatNodesRecord>();\n",
    "    }\n",
    "\n",
    "    return nodesResponse.Records;\n",
    "}\n",
    "\n",
    "var nodes = await GetNodes(elasticClient);\n",
    "\n",
    "if (!nodes.Any())\n",
    "{\n",
    "    Console.WriteLine(\"No nodes\");\n",
    "}"
   ]
  },
  {
   "cell_type": "markdown",
   "metadata": {},
   "source": [
    "Get shards"
   ]
  },
  {
   "cell_type": "code",
   "execution_count": null,
   "metadata": {
    "dotnet_interactive": {
     "language": "csharp"
    },
    "vscode": {
     "languageId": "dotnet-interactive.csharp"
    }
   },
   "outputs": [],
   "source": [
    "static async Task<IEnumerable<CatShardsRecord>> GetShards(ElasticClient elasticClient)\n",
    "{\n",
    "    var shardsResponse = await elasticClient.CatShardsAsync();\n",
    "\n",
    "    if (!shardsResponse.IsValid)\n",
    "    {\n",
    "        Console.WriteLine(\"Invalid shards response\");\n",
    "\n",
    "        return Enumerable.Empty<CatShardsRecord>();\n",
    "    }\n",
    "\n",
    "    var shards = shardsResponse.Records\n",
    "        .Where(t => t.State == \"UNASSIGNED\" && t.PrimaryOrReplica == \"p\")\n",
    "        .ToList();\n",
    "\n",
    "    return shards;\n",
    "}\n",
    "\n",
    "var shards = await GetShards(elasticClient);\n",
    "\n",
    "if (!shards.Any())\n",
    "{\n",
    "    Console.WriteLine(\"No UNASSIGNED shards\");\n",
    "}"
   ]
  },
  {
   "cell_type": "markdown",
   "metadata": {},
   "source": [
    "Fix shards"
   ]
  },
  {
   "cell_type": "code",
   "execution_count": null,
   "metadata": {
    "dotnet_interactive": {
     "language": "csharp"
    },
    "vscode": {
     "languageId": "dotnet-interactive.csharp"
    }
   },
   "outputs": [],
   "source": [
    "static async Task FixShards(ElasticClient elasticClient, IEnumerable<CatShardsRecord> shards, IEnumerable<CatNodesRecord> nodes)\n",
    "{\n",
    "    foreach (var shard in shards)\n",
    "    {\n",
    "        var shardNumber = int.Parse(shard.Shard);\n",
    "\n",
    "        var isFixed = false;\n",
    "\n",
    "        foreach (var node in nodes)\n",
    "        {\n",
    "            var rerouteResponse = await elasticClient.ClusterRerouteAsync(rerouteDescriptor => rerouteDescriptor\n",
    "                .AllocateStalePrimary(staleDescriptor => staleDescriptor\n",
    "                    .Index(shard.Index)\n",
    "                    .Shard(shardNumber)\n",
    "                    .Node(node.Name)\n",
    "                    .AcceptDataLoss(true)));\n",
    "\n",
    "            if (rerouteResponse.IsValid)\n",
    "            {\n",
    "                isFixed = true;\n",
    "\n",
    "                break;\n",
    "            }\n",
    "        }\n",
    "\n",
    "        if (isFixed)\n",
    "        {\n",
    "            Console.WriteLine($\"Shard:{shardNumber};Index:{shard.Index}; fixed\");\n",
    "        }\n",
    "        else\n",
    "        {\n",
    "            Console.WriteLine($\"Shard:{shardNumber};Index:{shard.Index}; NOT FIXED\");\n",
    "        }\n",
    "    }\n",
    "}\n",
    "\n",
    "await FixShards(elasticClient, shards, nodes);"
   ]
  },
  {
   "cell_type": "markdown",
   "metadata": {},
   "source": [
    "Check for any stale shards left"
   ]
  },
  {
   "cell_type": "code",
   "execution_count": null,
   "metadata": {
    "dotnet_interactive": {
     "language": "csharp"
    },
    "vscode": {
     "languageId": "dotnet-interactive.csharp"
    }
   },
   "outputs": [],
   "source": [
    "shards = await GetShards(elasticClient);\n",
    "\n",
    "Console.WriteLine();\n",
    "\n",
    "if (!shards.Any())\n",
    "{\n",
    "    Console.WriteLine(\"All UNASSIGNED shards fixed\");\n",
    "}\n",
    "else\n",
    "{\n",
    "    Console.WriteLine($\"{shards.Count()} UNASSIGNED shards not fixed\");\n",
    "}"
   ]
  }
 ],
 "metadata": {
  "kernelspec": {
   "display_name": ".NET (C#)",
   "language": "C#",
   "name": ".net-csharp"
  },
  "language_info": {
   "name": "C#"
  }
 },
 "nbformat": 4,
 "nbformat_minor": 2
}
